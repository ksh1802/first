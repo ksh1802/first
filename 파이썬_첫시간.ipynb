{
  "nbformat": 4,
  "nbformat_minor": 0,
  "metadata": {
    "colab": {
      "provenance": [],
      "toc_visible": true,
      "authorship_tag": "ABX9TyMWL55Ar9UaDq3lCzSwG+PS",
      "include_colab_link": true
    },
    "kernelspec": {
      "name": "python3",
      "display_name": "Python 3"
    },
    "language_info": {
      "name": "python"
    }
  },
  "cells": [
    {
      "cell_type": "markdown",
      "metadata": {
        "id": "view-in-github",
        "colab_type": "text"
      },
      "source": [
        "<a href=\"https://colab.research.google.com/github/ksh1802/first/blob/main/%ED%8C%8C%EC%9D%B4%EC%8D%AC_%EC%B2%AB%EC%8B%9C%EA%B0%84.ipynb\" target=\"_parent\"><img src=\"https://colab.research.google.com/assets/colab-badge.svg\" alt=\"Open In Colab\"/></a>"
      ]
    },
    {
      "cell_type": "markdown",
      "source": [
        "# 새 섹션"
      ],
      "metadata": {
        "id": "BAhujfopOpOA"
      }
    },
    {
      "cell_type": "code",
      "source": [
        "a = 123\n",
        "b = 456\n",
        "print(a+b)\n",
        "print(a**2)"
      ],
      "metadata": {
        "colab": {
          "base_uri": "https://localhost:8080/"
        },
        "id": "8ynYw19AOrWo",
        "outputId": "dc8f3be9-3ea0-4230-dad5-5450d6ae7d67"
      },
      "execution_count": 2,
      "outputs": [
        {
          "output_type": "stream",
          "name": "stdout",
          "text": [
            "579\n",
            "15129\n"
          ]
        }
      ]
    },
    {
      "cell_type": "markdown",
      "source": [],
      "metadata": {
        "id": "yrd6Jf_8O2CJ"
      }
    },
    {
      "cell_type": "markdown",
      "source": [
        "**굵은 텍스트**# 새 섹션"
      ],
      "metadata": {
        "id": "E_ox7gFaOe-p"
      }
    },
    {
      "cell_type": "markdown",
      "source": [
        "\n",
        "\n"
      ],
      "metadata": {
        "id": "vAT1OKBSLdRa"
      }
    }
  ]
}